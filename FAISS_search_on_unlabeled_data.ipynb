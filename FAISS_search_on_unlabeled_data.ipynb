{
 "cells": [
  {
   "cell_type": "code",
   "execution_count": 10,
   "id": "b1da89a1",
   "metadata": {},
   "outputs": [],
   "source": [
    "import pandas as pd\n",
    "import pyarrow as pa\n",
    "import datasets as ds\n",
    "from datasets import load_metric\n",
    "import numpy as np\n",
    "import os\n",
    "from transformers import AutoTokenizer, AutoModelForSequenceClassification\n",
    "from transformers import TrainingArguments, Trainer\n",
    "\n",
    "\n",
    "from sentence_transformers import SentenceTransformer\n",
    "from sentence_transformers.util import cos_sim\n"
   ]
  },
  {
   "cell_type": "code",
   "execution_count": 3,
   "id": "51bdee3c",
   "metadata": {},
   "outputs": [],
   "source": [
    "# Setup visible GPUs, change as appropriate per available GPU systems\n",
    "os.environ[\"CUDA_DEVICE_ORDER\"]=\"PCI_BUS_ID\"\n",
    "os.environ[\"CUDA_VISIBLE_DEVICES\"]=\"2,3,4,5,6,7\""
   ]
  },
  {
   "cell_type": "code",
   "execution_count": 4,
   "id": "579982a1",
   "metadata": {},
   "outputs": [],
   "source": [
    "dataset_path = '/scratch/hle/git/MASSIVE'"
   ]
  },
  {
   "cell_type": "code",
   "execution_count": 5,
   "id": "63f0a6b9",
   "metadata": {},
   "outputs": [],
   "source": [
    "train_dataset = ds.load_from_disk(os.path.join(dataset_path, '.train'))\n"
   ]
  },
  {
   "cell_type": "code",
   "execution_count": 6,
   "id": "58cb4475",
   "metadata": {},
   "outputs": [],
   "source": [
    "train_domains = []\n",
    "for i in train_dataset:\n",
    "    if i['domain'] not in train_domains:\n",
    "        train_domains.append(i['domain'])"
   ]
  },
  {
   "cell_type": "code",
   "execution_count": 16,
   "id": "b7ea4411",
   "metadata": {},
   "outputs": [],
   "source": [
    "def label_mapping(domains):\n",
    "    domains.sort()\n",
    "    key_to_val = {k:v for k,v in enumerate(domains)}\n",
    "    val_to_key = {v:k for k,v in enumerate(domains)}\n",
    "    return key_to_val, val_to_key"
   ]
  },
  {
   "cell_type": "code",
   "execution_count": 17,
   "id": "eaba8f1c",
   "metadata": {},
   "outputs": [],
   "source": [
    "key_to_val, val_to_key = label_mapping(train_domains)"
   ]
  },
  {
   "cell_type": "code",
   "execution_count": 19,
   "id": "633c06aa",
   "metadata": {},
   "outputs": [
    {
     "data": {
      "text/plain": [
       "{0: 'alarm',\n",
       " 1: 'audio',\n",
       " 2: 'calendar',\n",
       " 3: 'cooking',\n",
       " 4: 'datetime',\n",
       " 5: 'email',\n",
       " 6: 'general',\n",
       " 7: 'iot',\n",
       " 8: 'lists',\n",
       " 9: 'music',\n",
       " 10: 'news',\n",
       " 11: 'play',\n",
       " 12: 'qa',\n",
       " 13: 'recommendation',\n",
       " 14: 'social',\n",
       " 15: 'takeaway',\n",
       " 16: 'transport',\n",
       " 17: 'weather'}"
      ]
     },
     "execution_count": 19,
     "metadata": {},
     "output_type": "execute_result"
    }
   ],
   "source": [
    "key_to_val"
   ]
  },
  {
   "cell_type": "markdown",
   "id": "23b1260c",
   "metadata": {},
   "source": [
    "### Getting sentence embedding with sentence transformer"
   ]
  },
  {
   "cell_type": "code",
   "execution_count": 11,
   "id": "ee86609f",
   "metadata": {},
   "outputs": [],
   "source": [
    "model = SentenceTransformer('sentence-transformers/paraphrase-multilingual-MiniLM-L12-v2')"
   ]
  },
  {
   "cell_type": "code",
   "execution_count": 12,
   "id": "3652e818",
   "metadata": {},
   "outputs": [
    {
     "name": "stdout",
     "output_type": "stream",
     "text": [
      "tensor([[0.9356]])\n"
     ]
    }
   ],
   "source": [
    "embd_a = model.encode(\"What is your age?\")\n",
    "embd_b = model.encode(\"How old are you?\")\n",
    "\n",
    "\n",
    "sim_score = cos_sim(embd_a, embd_b)\n",
    "\n",
    "print(sim_score)"
   ]
  },
  {
   "cell_type": "code",
   "execution_count": 13,
   "id": "90d7c2b1",
   "metadata": {},
   "outputs": [
    {
     "data": {
      "text/plain": [
       "(384,)"
      ]
     },
     "execution_count": 13,
     "metadata": {},
     "output_type": "execute_result"
    }
   ],
   "source": [
    "embd_a.shape"
   ]
  },
  {
   "cell_type": "code",
   "execution_count": 15,
   "id": "1616c409",
   "metadata": {},
   "outputs": [
    {
     "data": {
      "text/plain": [
       "(384,)"
      ]
     },
     "execution_count": 15,
     "metadata": {},
     "output_type": "execute_result"
    }
   ],
   "source": [
    "embeddings[0].shape"
   ]
  },
  {
   "cell_type": "code",
   "execution_count": 53,
   "id": "353ab52f",
   "metadata": {},
   "outputs": [],
   "source": [
    "def embedding_function(examples):\n",
    "    utts = examples['utt']\n",
    "    sentences = [' '.join(utt) for utt in utts]\n",
    "    return {'embeddings': model.encode(sentences)}\n"
   ]
  },
  {
   "cell_type": "code",
   "execution_count": 54,
   "id": "7eec8106",
   "metadata": {},
   "outputs": [
    {
     "data": {
      "application/vnd.jupyter.widget-view+json": {
       "model_id": "e25f3b5f279b4257a736bd8ef8db8239",
       "version_major": 2,
       "version_minor": 0
      },
      "text/plain": [
       "  0%|          | 0/588 [00:00<?, ?ba/s]"
      ]
     },
     "metadata": {},
     "output_type": "display_data"
    }
   ],
   "source": [
    "train_dataset_with_embedding = train_dataset.map(embedding_function, batched=True, batch_size=1000)\n"
   ]
  },
  {
   "cell_type": "markdown",
   "id": "4bd8a9bb",
   "metadata": {},
   "source": [
    "### save data with embeddings to file"
   ]
  },
  {
   "cell_type": "code",
   "execution_count": 73,
   "id": "a6232c23",
   "metadata": {},
   "outputs": [],
   "source": [
    "train_dataset_with_embedding.save_to_disk('/scratch/hle/git/')"
   ]
  },
  {
   "cell_type": "code",
   "execution_count": null,
   "id": "6b2dfdbb",
   "metadata": {},
   "outputs": [],
   "source": []
  }
 ],
 "metadata": {
  "kernelspec": {
   "display_name": "Python 3",
   "language": "python",
   "name": "python3"
  },
  "language_info": {
   "codemirror_mode": {
    "name": "ipython",
    "version": 3
   },
   "file_extension": ".py",
   "mimetype": "text/x-python",
   "name": "python",
   "nbconvert_exporter": "python",
   "pygments_lexer": "ipython3",
   "version": "3.6.13"
  }
 },
 "nbformat": 4,
 "nbformat_minor": 5
}
